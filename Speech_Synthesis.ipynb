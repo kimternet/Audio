{
  "nbformat": 4,
  "nbformat_minor": 0,
  "metadata": {
    "colab": {
      "provenance": [],
      "gpuType": "T4"
    },
    "kernelspec": {
      "name": "python3",
      "display_name": "Python 3"
    },
    "accelerator": "GPU"
  },
  "cells": [
    {
      "cell_type": "markdown",
      "metadata": {
        "id": "UexUP_fOsGi1"
      },
      "source": [
        "# 음성 합성(Speech Synthesis)\n",
        "\n",
        "* https://github.com/NVIDIA/DeepLearningExamples/tree/master/PyTorch/SpeechSynthesis/Tacotron2"
      ]
    },
    {
      "cell_type": "markdown",
      "metadata": {
        "id": "gK3N_ZvK49AP"
      },
      "source": [
        "## Tacotron 2\n",
        "\n",
        "* 텍스트에서 멜 스펙트로그램 생성\n",
        "\n",
        "* https://pytorch.org/hub/nvidia_deeplearningexamples_tacotron2/\n",
        "\n",
        "<img src=\"https://pytorch.org/assets/images/tacotron2_diagram.png\" alt=\"alt\" width=\"50%\"/>"
      ]
    },
    {
      "cell_type": "markdown",
      "metadata": {
        "id": "V2Tbh3nisMBg"
      },
      "source": [
        "## WaveGlow\n",
        "\n",
        "* 멜 스펙트로그램에서 음성 생성\n",
        "\n",
        "* https://pytorch.org/hub/nvidia_deeplearningexamples_waveglow/\n",
        "\n",
        "<img src=\"https://pytorch.org/assets/images/waveglow_diagram.png\" alt=\"alt\" width=\"50%\"/>"
      ]
    },
    {
      "cell_type": "code",
      "metadata": {
        "id": "9g3onRgH49AR",
        "colab": {
          "base_uri": "https://localhost:8080/"
        },
        "outputId": "85571f6e-9603-47a2-ddfe-f54eec6315b2"
      },
      "source": [
        "!pip install numpy scipy librosa unidecode inflect"
      ],
      "execution_count": 1,
      "outputs": [
        {
          "output_type": "stream",
          "name": "stdout",
          "text": [
            "Requirement already satisfied: numpy in /usr/local/lib/python3.10/dist-packages (1.26.4)\n",
            "Requirement already satisfied: scipy in /usr/local/lib/python3.10/dist-packages (1.13.1)\n",
            "Requirement already satisfied: librosa in /usr/local/lib/python3.10/dist-packages (0.10.2.post1)\n",
            "Collecting unidecode\n",
            "  Downloading Unidecode-1.3.8-py3-none-any.whl.metadata (13 kB)\n",
            "Requirement already satisfied: inflect in /usr/local/lib/python3.10/dist-packages (7.4.0)\n",
            "Requirement already satisfied: audioread>=2.1.9 in /usr/local/lib/python3.10/dist-packages (from librosa) (3.0.1)\n",
            "Requirement already satisfied: scikit-learn>=0.20.0 in /usr/local/lib/python3.10/dist-packages (from librosa) (1.5.2)\n",
            "Requirement already satisfied: joblib>=0.14 in /usr/local/lib/python3.10/dist-packages (from librosa) (1.4.2)\n",
            "Requirement already satisfied: decorator>=4.3.0 in /usr/local/lib/python3.10/dist-packages (from librosa) (4.4.2)\n",
            "Requirement already satisfied: numba>=0.51.0 in /usr/local/lib/python3.10/dist-packages (from librosa) (0.60.0)\n",
            "Requirement already satisfied: soundfile>=0.12.1 in /usr/local/lib/python3.10/dist-packages (from librosa) (0.12.1)\n",
            "Requirement already satisfied: pooch>=1.1 in /usr/local/lib/python3.10/dist-packages (from librosa) (1.8.2)\n",
            "Requirement already satisfied: soxr>=0.3.2 in /usr/local/lib/python3.10/dist-packages (from librosa) (0.5.0.post1)\n",
            "Requirement already satisfied: typing-extensions>=4.1.1 in /usr/local/lib/python3.10/dist-packages (from librosa) (4.12.2)\n",
            "Requirement already satisfied: lazy-loader>=0.1 in /usr/local/lib/python3.10/dist-packages (from librosa) (0.4)\n",
            "Requirement already satisfied: msgpack>=1.0 in /usr/local/lib/python3.10/dist-packages (from librosa) (1.1.0)\n",
            "Requirement already satisfied: more-itertools>=8.5.0 in /usr/local/lib/python3.10/dist-packages (from inflect) (10.5.0)\n",
            "Requirement already satisfied: typeguard>=4.0.1 in /usr/local/lib/python3.10/dist-packages (from inflect) (4.4.0)\n",
            "Requirement already satisfied: packaging in /usr/local/lib/python3.10/dist-packages (from lazy-loader>=0.1->librosa) (24.1)\n",
            "Requirement already satisfied: llvmlite<0.44,>=0.43.0dev0 in /usr/local/lib/python3.10/dist-packages (from numba>=0.51.0->librosa) (0.43.0)\n",
            "Requirement already satisfied: platformdirs>=2.5.0 in /usr/local/lib/python3.10/dist-packages (from pooch>=1.1->librosa) (4.3.6)\n",
            "Requirement already satisfied: requests>=2.19.0 in /usr/local/lib/python3.10/dist-packages (from pooch>=1.1->librosa) (2.32.3)\n",
            "Requirement already satisfied: threadpoolctl>=3.1.0 in /usr/local/lib/python3.10/dist-packages (from scikit-learn>=0.20.0->librosa) (3.5.0)\n",
            "Requirement already satisfied: cffi>=1.0 in /usr/local/lib/python3.10/dist-packages (from soundfile>=0.12.1->librosa) (1.17.1)\n",
            "Requirement already satisfied: pycparser in /usr/local/lib/python3.10/dist-packages (from cffi>=1.0->soundfile>=0.12.1->librosa) (2.22)\n",
            "Requirement already satisfied: charset-normalizer<4,>=2 in /usr/local/lib/python3.10/dist-packages (from requests>=2.19.0->pooch>=1.1->librosa) (3.4.0)\n",
            "Requirement already satisfied: idna<4,>=2.5 in /usr/local/lib/python3.10/dist-packages (from requests>=2.19.0->pooch>=1.1->librosa) (3.10)\n",
            "Requirement already satisfied: urllib3<3,>=1.21.1 in /usr/local/lib/python3.10/dist-packages (from requests>=2.19.0->pooch>=1.1->librosa) (2.2.3)\n",
            "Requirement already satisfied: certifi>=2017.4.17 in /usr/local/lib/python3.10/dist-packages (from requests>=2.19.0->pooch>=1.1->librosa) (2024.8.30)\n",
            "Downloading Unidecode-1.3.8-py3-none-any.whl (235 kB)\n",
            "\u001b[2K   \u001b[90m━━━━━━━━━━━━━━━━━━━━━━━━━━━━━━━━━━━━━━━━\u001b[0m \u001b[32m235.5/235.5 kB\u001b[0m \u001b[31m4.1 MB/s\u001b[0m eta \u001b[36m0:00:00\u001b[0m\n",
            "\u001b[?25hInstalling collected packages: unidecode\n",
            "Successfully installed unidecode-1.3.8\n"
          ]
        }
      ]
    },
    {
      "cell_type": "markdown",
      "metadata": {
        "id": "iQAuqqCkFZDi"
      },
      "source": [
        "* LJ Speech dataset에서 사전 학습된 Tacotron2와 WaveGlow 모델 로드"
      ]
    },
    {
      "cell_type": "code",
      "metadata": {
        "id": "xjS5ar5P49Aa",
        "colab": {
          "base_uri": "https://localhost:8080/"
        },
        "outputId": "bb41043d-5cb8-4031-9aed-9b71b8bb8789"
      },
      "source": [
        "import torch\n",
        "\n",
        "tacotron2 = torch.hub.load('nvidia/DeepLearningExamples:torchhub','nvidia_tacotron2')\n",
        "waveglow = torch.hub.load('nvidia/DeepLearningExamples:torchhub','nvidia_waveglow')"
      ],
      "execution_count": 2,
      "outputs": [
        {
          "output_type": "stream",
          "name": "stderr",
          "text": [
            "/usr/local/lib/python3.10/dist-packages/torch/hub.py:330: UserWarning: You are about to download and run code from an untrusted repository. In a future release, this won't be allowed. To add the repository to your trusted list, change the command to {calling_fn}(..., trust_repo=False) and a command prompt will appear asking for an explicit confirmation of trust, or load(..., trust_repo=True), which will assume that the prompt is to be answered with 'yes'. You can also use load(..., trust_repo='check') which will only prompt for confirmation if the repo is not already trusted. This will eventually be the default behaviour\n",
            "  warnings.warn(\n",
            "Downloading: \"https://github.com/nvidia/DeepLearningExamples/zipball/torchhub\" to /root/.cache/torch/hub/torchhub.zip\n",
            "/root/.cache/torch/hub/nvidia_DeepLearningExamples_torchhub/PyTorch/Classification/ConvNets/image_classification/models/common.py:13: UserWarning: pytorch_quantization module not found, quantization will not be available\n",
            "  warnings.warn(\n",
            "/root/.cache/torch/hub/nvidia_DeepLearningExamples_torchhub/PyTorch/Classification/ConvNets/image_classification/models/efficientnet.py:17: UserWarning: pytorch_quantization module not found, quantization will not be available\n",
            "  warnings.warn(\n",
            "Downloading checkpoint from https://api.ngc.nvidia.com/v2/models/nvidia/tacotron2_pyt_ckpt_fp32/versions/19.09.0/files/nvidia_tacotron2pyt_fp32_20190427\n",
            "/root/.cache/torch/hub/nvidia_DeepLearningExamples_torchhub/PyTorch/SpeechSynthesis/Tacotron2/tacotron2/entrypoints.py:99: FutureWarning: You are using `torch.load` with `weights_only=False` (the current default value), which uses the default pickle module implicitly. It is possible to construct malicious pickle data which will execute arbitrary code during unpickling (See https://github.com/pytorch/pytorch/blob/main/SECURITY.md#untrusted-models for more details). In a future release, the default value for `weights_only` will be flipped to `True`. This limits the functions that could be executed during unpickling. Arbitrary objects will no longer be allowed to be loaded via this mode unless they are explicitly allowlisted by the user via `torch.serialization.add_safe_globals`. We recommend you start setting `weights_only=True` for any use case where you don't have full control of the loaded file. Please open an issue on GitHub for any issues related to this experimental feature.\n",
            "  ckpt = torch.load(ckpt_file)\n",
            "Using cache found in /root/.cache/torch/hub/nvidia_DeepLearningExamples_torchhub\n",
            "Downloading checkpoint from https://api.ngc.nvidia.com/v2/models/nvidia/waveglow_ckpt_fp32/versions/19.09.0/files/nvidia_waveglowpyt_fp32_20190427\n",
            "/root/.cache/torch/hub/nvidia_DeepLearningExamples_torchhub/PyTorch/SpeechSynthesis/Tacotron2/waveglow/entrypoints.py:96: FutureWarning: You are using `torch.load` with `weights_only=False` (the current default value), which uses the default pickle module implicitly. It is possible to construct malicious pickle data which will execute arbitrary code during unpickling (See https://github.com/pytorch/pytorch/blob/main/SECURITY.md#untrusted-models for more details). In a future release, the default value for `weights_only` will be flipped to `True`. This limits the functions that could be executed during unpickling. Arbitrary objects will no longer be allowed to be loaded via this mode unless they are explicitly allowlisted by the user via `torch.serialization.add_safe_globals`. We recommend you start setting `weights_only=True` for any use case where you don't have full control of the loaded file. Please open an issue on GitHub for any issues related to this experimental feature.\n",
            "  ckpt = torch.load(ckpt_file)\n",
            "/usr/local/lib/python3.10/dist-packages/torch/nn/utils/weight_norm.py:143: FutureWarning: `torch.nn.utils.weight_norm` is deprecated in favor of `torch.nn.utils.parametrizations.weight_norm`.\n",
            "  WeightNorm.apply(module, name, dim)\n"
          ]
        }
      ]
    },
    {
      "cell_type": "code",
      "metadata": {
        "id": "uFBHVu_Q49At",
        "colab": {
          "base_uri": "https://localhost:8080/"
        },
        "outputId": "92471a0b-8651-49ef-e28a-7f0f409e3215"
      },
      "source": [
        "tacotron2 = tacotron2.to('cuda')\n",
        "tacotron2.eval()"
      ],
      "execution_count": 3,
      "outputs": [
        {
          "output_type": "execute_result",
          "data": {
            "text/plain": [
              "Tacotron2(\n",
              "  (embedding): Embedding(148, 512)\n",
              "  (encoder): Encoder(\n",
              "    (convolutions): ModuleList(\n",
              "      (0-2): 3 x Sequential(\n",
              "        (0): ConvNorm(\n",
              "          (conv): Conv1d(512, 512, kernel_size=(5,), stride=(1,), padding=(2,))\n",
              "        )\n",
              "        (1): BatchNorm1d(512, eps=1e-05, momentum=0.1, affine=True, track_running_stats=True)\n",
              "      )\n",
              "    )\n",
              "    (lstm): LSTM(512, 256, batch_first=True, bidirectional=True)\n",
              "  )\n",
              "  (decoder): Decoder(\n",
              "    (prenet): Prenet(\n",
              "      (layers): ModuleList(\n",
              "        (0): LinearNorm(\n",
              "          (linear_layer): Linear(in_features=80, out_features=256, bias=False)\n",
              "        )\n",
              "        (1): LinearNorm(\n",
              "          (linear_layer): Linear(in_features=256, out_features=256, bias=False)\n",
              "        )\n",
              "      )\n",
              "    )\n",
              "    (attention_rnn): LSTMCell(768, 1024)\n",
              "    (attention_layer): Attention(\n",
              "      (query_layer): LinearNorm(\n",
              "        (linear_layer): Linear(in_features=1024, out_features=128, bias=False)\n",
              "      )\n",
              "      (memory_layer): LinearNorm(\n",
              "        (linear_layer): Linear(in_features=512, out_features=128, bias=False)\n",
              "      )\n",
              "      (v): LinearNorm(\n",
              "        (linear_layer): Linear(in_features=128, out_features=1, bias=False)\n",
              "      )\n",
              "      (location_layer): LocationLayer(\n",
              "        (location_conv): ConvNorm(\n",
              "          (conv): Conv1d(2, 32, kernel_size=(31,), stride=(1,), padding=(15,), bias=False)\n",
              "        )\n",
              "        (location_dense): LinearNorm(\n",
              "          (linear_layer): Linear(in_features=32, out_features=128, bias=False)\n",
              "        )\n",
              "      )\n",
              "    )\n",
              "    (decoder_rnn): LSTMCell(1536, 1024, bias=1)\n",
              "    (linear_projection): LinearNorm(\n",
              "      (linear_layer): Linear(in_features=1536, out_features=80, bias=True)\n",
              "    )\n",
              "    (gate_layer): LinearNorm(\n",
              "      (linear_layer): Linear(in_features=1536, out_features=1, bias=True)\n",
              "    )\n",
              "  )\n",
              "  (postnet): Postnet(\n",
              "    (convolutions): ModuleList(\n",
              "      (0): Sequential(\n",
              "        (0): ConvNorm(\n",
              "          (conv): Conv1d(80, 512, kernel_size=(5,), stride=(1,), padding=(2,))\n",
              "        )\n",
              "        (1): BatchNorm1d(512, eps=1e-05, momentum=0.1, affine=True, track_running_stats=True)\n",
              "      )\n",
              "      (1-3): 3 x Sequential(\n",
              "        (0): ConvNorm(\n",
              "          (conv): Conv1d(512, 512, kernel_size=(5,), stride=(1,), padding=(2,))\n",
              "        )\n",
              "        (1): BatchNorm1d(512, eps=1e-05, momentum=0.1, affine=True, track_running_stats=True)\n",
              "      )\n",
              "      (4): Sequential(\n",
              "        (0): ConvNorm(\n",
              "          (conv): Conv1d(512, 80, kernel_size=(5,), stride=(1,), padding=(2,))\n",
              "        )\n",
              "        (1): BatchNorm1d(80, eps=1e-05, momentum=0.1, affine=True, track_running_stats=True)\n",
              "      )\n",
              "    )\n",
              "  )\n",
              ")"
            ]
          },
          "metadata": {},
          "execution_count": 3
        }
      ]
    },
    {
      "cell_type": "code",
      "metadata": {
        "id": "H4flKaBn49A5",
        "colab": {
          "base_uri": "https://localhost:8080/"
        },
        "outputId": "5fdcfb78-7877-49b4-986e-480bcb56386f"
      },
      "source": [
        "waveglow = waveglow.remove_weightnorm(waveglow)\n",
        "waveglow = waveglow.to('cuda')\n",
        "waveglow.eval()"
      ],
      "execution_count": 4,
      "outputs": [
        {
          "output_type": "execute_result",
          "data": {
            "text/plain": [
              "WaveGlow(\n",
              "  (upsample): ConvTranspose1d(80, 80, kernel_size=(1024,), stride=(256,))\n",
              "  (WN): ModuleList(\n",
              "    (0-3): 4 x WN(\n",
              "      (in_layers): ModuleList(\n",
              "        (0): Conv1d(512, 1024, kernel_size=(3,), stride=(1,), padding=(1,))\n",
              "        (1): Conv1d(512, 1024, kernel_size=(3,), stride=(1,), padding=(2,), dilation=(2,))\n",
              "        (2): Conv1d(512, 1024, kernel_size=(3,), stride=(1,), padding=(4,), dilation=(4,))\n",
              "        (3): Conv1d(512, 1024, kernel_size=(3,), stride=(1,), padding=(8,), dilation=(8,))\n",
              "        (4): Conv1d(512, 1024, kernel_size=(3,), stride=(1,), padding=(16,), dilation=(16,))\n",
              "        (5): Conv1d(512, 1024, kernel_size=(3,), stride=(1,), padding=(32,), dilation=(32,))\n",
              "        (6): Conv1d(512, 1024, kernel_size=(3,), stride=(1,), padding=(64,), dilation=(64,))\n",
              "        (7): Conv1d(512, 1024, kernel_size=(3,), stride=(1,), padding=(128,), dilation=(128,))\n",
              "      )\n",
              "      (res_skip_layers): ModuleList(\n",
              "        (0-6): 7 x Conv1d(512, 1024, kernel_size=(1,), stride=(1,))\n",
              "        (7): Conv1d(512, 512, kernel_size=(1,), stride=(1,))\n",
              "      )\n",
              "      (cond_layers): ModuleList(\n",
              "        (0-7): 8 x Conv1d(640, 1024, kernel_size=(1,), stride=(1,))\n",
              "      )\n",
              "      (start): Conv1d(4, 512, kernel_size=(1,), stride=(1,))\n",
              "      (end): Conv1d(512, 8, kernel_size=(1,), stride=(1,))\n",
              "    )\n",
              "    (4-7): 4 x WN(\n",
              "      (in_layers): ModuleList(\n",
              "        (0): Conv1d(512, 1024, kernel_size=(3,), stride=(1,), padding=(1,))\n",
              "        (1): Conv1d(512, 1024, kernel_size=(3,), stride=(1,), padding=(2,), dilation=(2,))\n",
              "        (2): Conv1d(512, 1024, kernel_size=(3,), stride=(1,), padding=(4,), dilation=(4,))\n",
              "        (3): Conv1d(512, 1024, kernel_size=(3,), stride=(1,), padding=(8,), dilation=(8,))\n",
              "        (4): Conv1d(512, 1024, kernel_size=(3,), stride=(1,), padding=(16,), dilation=(16,))\n",
              "        (5): Conv1d(512, 1024, kernel_size=(3,), stride=(1,), padding=(32,), dilation=(32,))\n",
              "        (6): Conv1d(512, 1024, kernel_size=(3,), stride=(1,), padding=(64,), dilation=(64,))\n",
              "        (7): Conv1d(512, 1024, kernel_size=(3,), stride=(1,), padding=(128,), dilation=(128,))\n",
              "      )\n",
              "      (res_skip_layers): ModuleList(\n",
              "        (0-6): 7 x Conv1d(512, 1024, kernel_size=(1,), stride=(1,))\n",
              "        (7): Conv1d(512, 512, kernel_size=(1,), stride=(1,))\n",
              "      )\n",
              "      (cond_layers): ModuleList(\n",
              "        (0-7): 8 x Conv1d(640, 1024, kernel_size=(1,), stride=(1,))\n",
              "      )\n",
              "      (start): Conv1d(3, 512, kernel_size=(1,), stride=(1,))\n",
              "      (end): Conv1d(512, 6, kernel_size=(1,), stride=(1,))\n",
              "    )\n",
              "    (8-11): 4 x WN(\n",
              "      (in_layers): ModuleList(\n",
              "        (0): Conv1d(512, 1024, kernel_size=(3,), stride=(1,), padding=(1,))\n",
              "        (1): Conv1d(512, 1024, kernel_size=(3,), stride=(1,), padding=(2,), dilation=(2,))\n",
              "        (2): Conv1d(512, 1024, kernel_size=(3,), stride=(1,), padding=(4,), dilation=(4,))\n",
              "        (3): Conv1d(512, 1024, kernel_size=(3,), stride=(1,), padding=(8,), dilation=(8,))\n",
              "        (4): Conv1d(512, 1024, kernel_size=(3,), stride=(1,), padding=(16,), dilation=(16,))\n",
              "        (5): Conv1d(512, 1024, kernel_size=(3,), stride=(1,), padding=(32,), dilation=(32,))\n",
              "        (6): Conv1d(512, 1024, kernel_size=(3,), stride=(1,), padding=(64,), dilation=(64,))\n",
              "        (7): Conv1d(512, 1024, kernel_size=(3,), stride=(1,), padding=(128,), dilation=(128,))\n",
              "      )\n",
              "      (res_skip_layers): ModuleList(\n",
              "        (0-6): 7 x Conv1d(512, 1024, kernel_size=(1,), stride=(1,))\n",
              "        (7): Conv1d(512, 512, kernel_size=(1,), stride=(1,))\n",
              "      )\n",
              "      (cond_layers): ModuleList(\n",
              "        (0-7): 8 x Conv1d(640, 1024, kernel_size=(1,), stride=(1,))\n",
              "      )\n",
              "      (start): Conv1d(2, 512, kernel_size=(1,), stride=(1,))\n",
              "      (end): Conv1d(512, 4, kernel_size=(1,), stride=(1,))\n",
              "    )\n",
              "  )\n",
              "  (convinv): ModuleList(\n",
              "    (0-3): 4 x Invertible1x1Conv(\n",
              "      (conv): Conv1d(8, 8, kernel_size=(1,), stride=(1,), bias=False)\n",
              "    )\n",
              "    (4-7): 4 x Invertible1x1Conv(\n",
              "      (conv): Conv1d(6, 6, kernel_size=(1,), stride=(1,), bias=False)\n",
              "    )\n",
              "    (8-11): 4 x Invertible1x1Conv(\n",
              "      (conv): Conv1d(4, 4, kernel_size=(1,), stride=(1,), bias=False)\n",
              "    )\n",
              "  )\n",
              ")"
            ]
          },
          "metadata": {},
          "execution_count": 4
        }
      ]
    }
  ]
}